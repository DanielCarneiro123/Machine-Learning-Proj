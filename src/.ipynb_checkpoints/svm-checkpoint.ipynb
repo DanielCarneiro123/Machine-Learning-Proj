{
 "cells": [
  {
   "cell_type": "markdown",
   "metadata": {},
   "source": [
    "## Import necessary libraries."
   ]
  },
  {
   "cell_type": "code",
   "execution_count": 1,
   "metadata": {},
   "outputs": [],
   "source": [
    "import pandas as pd\n",
    "import numpy as np\n",
    "import matplotlib.pyplot as plt\n",
    "import seaborn as sns"
   ]
  },
  {
   "cell_type": "markdown",
   "metadata": {},
   "source": [
    "# Marketing outcome prediction for bank clients\n",
    "\n",
    "The objective is to conduct a study to determine whether a marketing campaign can influence a bank client's decision to invest in a term deposit (Not sure about this). By analyzing various attributes of individuals, the campaign aims to study and predict favorable outcomes for the bank.\n",
    "A **term deposit** is basically an investment made by the client, with the bank, where the bank uses some of the money invested to work with other clients or business partners and when the deposit expires, returns the initial deposit with an interest rate to the client.\n",
    "\n",
    "## Data-set classification\n",
    "\n",
    "- **Attributes classification**\n",
    "\n",
    "- Id -> identification number of the bank client\n",
    "- Age -> age of the bank client\n",
    "- Job -> type of job of the bank client\n",
    "- Marital -> marital status of the bank client\n",
    "- Education -> level of education of the bank client\n",
    "- Default -> If \"yes\" means, the client has unpaid debt.\n",
    "- Housing -> If \"yes\" means, the client has a housing loan.\n",
    "- Loan -> If \"yes\" means, the client has a personal loan.\n",
    "- Contact -> contact communication type\n",
    "- Day -> Last day that marketing team contacted the bank client.\n",
    "- Month -> Last month that marketing team contacted the bank client.\n",
    "- Duration -> last contact duration, in seconds.\n",
    "- Campaign -> number of contacts performed during this campaign and for this bank client.\n",
    "- Pdays -> number of days that passed by after the client was last contacted from a previous campaign.\n",
    "- Previous -> number of contacts performed before this campaign and for this client.\n",
    "- Poutcome -> outcome of the previous marketing campaign.\n",
    "- y -> If \"yes\" means, the client responded positively to the marketing campaign.\n",
    "\n",
    "### Table for the types of data\n",
    "\n",
    "\n"
   ]
  },
  {
   "cell_type": "markdown",
   "metadata": {},
   "source": [
    "## Data preprocessing\n",
    "\n",
    "First is necessary to parse the data provided by the dataset, and deal with bad values that can interfere with the analysis for the algorithms.\n",
    "\n",
    "- Duplicate values\n",
    "- Outliers\n",
    "- Missing values"
   ]
  },
  {
   "cell_type": "code",
   "execution_count": 2,
   "metadata": {},
   "outputs": [],
   "source": [
    "# Open the dataset\n",
    "df = pd.read_csv(\"marketing.csv\")\n",
    "\n",
    "\n",
    "\n",
    "\n"
   ]
  },
  {
   "cell_type": "markdown",
   "metadata": {},
   "source": []
  }
 ],
 "metadata": {
  "kernelspec": {
   "display_name": "Python 3 (ipykernel)",
   "language": "python",
   "name": "python3"
  },
  "language_info": {
   "codemirror_mode": {
    "name": "ipython",
    "version": 3
   },
   "file_extension": ".py",
   "mimetype": "text/x-python",
   "name": "python",
   "nbconvert_exporter": "python",
   "pygments_lexer": "ipython3",
   "version": "3.11.5"
  }
 },
 "nbformat": 4,
 "nbformat_minor": 2
}
