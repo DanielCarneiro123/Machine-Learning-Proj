{
 "cells": [
  {
   "cell_type": "markdown",
   "metadata": {},
   "source": [
    "**Data Cleaning Process - Bank Client Attributes and Marketing Outcomes**"
   ]
  },
  {
   "cell_type": "markdown",
   "metadata": {},
   "source": [
    "The **Bank Client Attributes and Marketing Outcomes** dataset offers a comprehensive insight into the attributes of bank clients and the outcomes of marketing campaigns. It includes details such as client demographics, employment status, financial history, and contact methods. Additionally, the dataset encompasses the results of marketing campaigns, including the duration, success rates, and previous interactions with clients. This dataset serves as a valuable resource for analyzing customer behavior, optimizing marketing strategies, and enhancing client engagement in the banking sector."
   ]
  },
  {
   "cell_type": "markdown",
   "metadata": {},
   "source": [
    "In our dataset we can find:\n",
    "\n",
    "* 18 columns \n",
    "* 45211 rows"
   ]
  },
  {
   "cell_type": "markdown",
   "metadata": {},
   "source": [
    "Each row represents a person that has been contacted by a marketing company. Each person has 16 features associated to their personal information and 1 categorical if the person is interested in adquiring the producty. "
   ]
  },
  {
   "cell_type": "markdown",
   "metadata": {},
   "source": [
    "The 17 columns are:\n",
    "1. ID (numeric)\n",
    "2. Age (numeric)\n",
    "3. Job ( \"admin\", \"unknown\", \"unemployed\", \"management\", \"housemaid\", \"entrepreneur\", \"student\", \"blue-collar\",\"self-employed\", \"retired\", \"technician\", \"services\")\n",
    "4. Marital (\"single\", \"married\", \"divorced\")\n",
    "5. Education (\"unknown\", \"secondary\", \"primary\", \"tertiary\")\n",
    "6. Default (If left to pay its obligation: \"yes\", \"no\")\n",
    "7. Balance (Last Years' Income-Outcome: numeric)\n",
    "8. Housing (Do you have a mortgage credit?: \"yes\", \"no\")\n",
    "9. Loan (Do you have a loans?: \"yes\", \"no\")\n",
    "10. Contact (\"unknown\", \"telephone\", \"cellular\")\n",
    "11. Day (The last day that the person was contacted: numeric)\n",
    "12. Month (The last month that the person was contacted: numeric)\n",
    "13. Duration (Duration (in seconds) of the last contact: numeric)\n",
    "14. Campaign (Total number of times the person was contacted during the campaign: numeric)\n",
    "15. Pdays (Number of days elapsed after the person was contacted before the actual campaign: -1: not contacted before)\n",
    "16. Previous (Number of times that the person had being contacted before this campaign: numeric)\n",
    "17. Poutcome (Result of the marketing campaign: \"unknown\", \"other\", \"failure\", \"success\")\n",
    "18. Y (Did the client subscribe to the product?: \"yes\", \"no\")"
   ]
  },
  {
   "cell_type": "markdown",
   "metadata": {},
   "source": [
    "**Data Set Introduction**\n",
    "\n",
    "Por alguma razão para instalar o from imblearn.over_sampling import SMOTE é preciso passar a versão do sklearn para uma abaixo do 1.3 (por exemplo o 1.2.2)"
   ]
  },
  {
   "cell_type": "code",
   "execution_count": 1,
   "metadata": {},
   "outputs": [
    {
     "name": "stdout",
     "output_type": "stream",
     "text": [
      "1.2.2\n"
     ]
    }
   ],
   "source": [
    "import sklearn\n",
    "print(sklearn.__version__)\n",
    "\n",
    "\n",
    "import pandas as pd\n",
    "import numpy as np\n",
    "import matplotlib.pyplot as plt\n",
    "import seaborn as sns\n",
    "from sklearn.preprocessing import LabelEncoder\n",
    "from sklearn.model_selection import train_test_split, cross_val_score, GridSearchCV\n",
    "from imblearn.over_sampling import SMOTE\n",
    "from sklearn.tree import DecisionTreeClassifier as DTC\n",
    "import matplotlib.pyplot as plt \n",
    "from sklearn.tree import plot_tree\n",
    "import plotly.express as px\n",
    "import plotly.graph_objects as go \n",
    "from sklearn.metrics import precision_score, recall_score, f1_score, ConfusionMatrixDisplay, confusion_matrix\n"
   ]
  },
  {
   "cell_type": "code",
   "execution_count": 2,
   "metadata": {},
   "outputs": [],
   "source": [
    "path = 'Assignment-2_Data.csv'\n",
    "data = pd.read_csv(path)"
   ]
  },
  {
   "cell_type": "code",
   "execution_count": 3,
   "metadata": {},
   "outputs": [
    {
     "name": "stdout",
     "output_type": "stream",
     "text": [
      "(45211, 18)\n"
     ]
    },
    {
     "data": {
      "text/html": [
       "<div>\n",
       "<style scoped>\n",
       "    .dataframe tbody tr th:only-of-type {\n",
       "        vertical-align: middle;\n",
       "    }\n",
       "\n",
       "    .dataframe tbody tr th {\n",
       "        vertical-align: top;\n",
       "    }\n",
       "\n",
       "    .dataframe thead th {\n",
       "        text-align: right;\n",
       "    }\n",
       "</style>\n",
       "<table border=\"1\" class=\"dataframe\">\n",
       "  <thead>\n",
       "    <tr style=\"text-align: right;\">\n",
       "      <th></th>\n",
       "      <th>Id</th>\n",
       "      <th>age</th>\n",
       "      <th>job</th>\n",
       "      <th>marital</th>\n",
       "      <th>education</th>\n",
       "      <th>default</th>\n",
       "      <th>balance</th>\n",
       "      <th>housing</th>\n",
       "      <th>loan</th>\n",
       "      <th>contact</th>\n",
       "      <th>day</th>\n",
       "      <th>month</th>\n",
       "      <th>duration</th>\n",
       "      <th>campaign</th>\n",
       "      <th>pdays</th>\n",
       "      <th>previous</th>\n",
       "      <th>poutcome</th>\n",
       "      <th>y</th>\n",
       "    </tr>\n",
       "  </thead>\n",
       "  <tbody>\n",
       "    <tr>\n",
       "      <th>0</th>\n",
       "      <td>1001</td>\n",
       "      <td>NaN</td>\n",
       "      <td>management</td>\n",
       "      <td>married</td>\n",
       "      <td>tertiary</td>\n",
       "      <td>no</td>\n",
       "      <td>2143.0</td>\n",
       "      <td>yes</td>\n",
       "      <td>no</td>\n",
       "      <td>unknown</td>\n",
       "      <td>5</td>\n",
       "      <td>may</td>\n",
       "      <td>261</td>\n",
       "      <td>1</td>\n",
       "      <td>-1</td>\n",
       "      <td>0</td>\n",
       "      <td>unknown</td>\n",
       "      <td>no</td>\n",
       "    </tr>\n",
       "    <tr>\n",
       "      <th>1</th>\n",
       "      <td>1002</td>\n",
       "      <td>NaN</td>\n",
       "      <td>NaN</td>\n",
       "      <td>single</td>\n",
       "      <td>secondary</td>\n",
       "      <td>no</td>\n",
       "      <td>29.0</td>\n",
       "      <td>yes</td>\n",
       "      <td>no</td>\n",
       "      <td>unknown</td>\n",
       "      <td>5</td>\n",
       "      <td>may</td>\n",
       "      <td>151</td>\n",
       "      <td>1</td>\n",
       "      <td>-1</td>\n",
       "      <td>0</td>\n",
       "      <td>unknown</td>\n",
       "      <td>no</td>\n",
       "    </tr>\n",
       "    <tr>\n",
       "      <th>2</th>\n",
       "      <td>1003</td>\n",
       "      <td>NaN</td>\n",
       "      <td>entrepreneur</td>\n",
       "      <td>married</td>\n",
       "      <td>secondary</td>\n",
       "      <td>no</td>\n",
       "      <td>2.0</td>\n",
       "      <td>yes</td>\n",
       "      <td>yes</td>\n",
       "      <td>unknown</td>\n",
       "      <td>5</td>\n",
       "      <td>may</td>\n",
       "      <td>76</td>\n",
       "      <td>1</td>\n",
       "      <td>-1</td>\n",
       "      <td>0</td>\n",
       "      <td>unknown</td>\n",
       "      <td>no</td>\n",
       "    </tr>\n",
       "    <tr>\n",
       "      <th>3</th>\n",
       "      <td>1004</td>\n",
       "      <td>47.0</td>\n",
       "      <td>blue-collar</td>\n",
       "      <td>married</td>\n",
       "      <td>unknown</td>\n",
       "      <td>no</td>\n",
       "      <td>1506.0</td>\n",
       "      <td>yes</td>\n",
       "      <td>no</td>\n",
       "      <td>unknown</td>\n",
       "      <td>5</td>\n",
       "      <td>may</td>\n",
       "      <td>92</td>\n",
       "      <td>1</td>\n",
       "      <td>-1</td>\n",
       "      <td>0</td>\n",
       "      <td>unknown</td>\n",
       "      <td>no</td>\n",
       "    </tr>\n",
       "    <tr>\n",
       "      <th>4</th>\n",
       "      <td>1005</td>\n",
       "      <td>33.0</td>\n",
       "      <td>unknown</td>\n",
       "      <td>single</td>\n",
       "      <td>unknown</td>\n",
       "      <td>no</td>\n",
       "      <td>1.0</td>\n",
       "      <td>no</td>\n",
       "      <td>no</td>\n",
       "      <td>unknown</td>\n",
       "      <td>5</td>\n",
       "      <td>may</td>\n",
       "      <td>198</td>\n",
       "      <td>1</td>\n",
       "      <td>-1</td>\n",
       "      <td>0</td>\n",
       "      <td>unknown</td>\n",
       "      <td>no</td>\n",
       "    </tr>\n",
       "  </tbody>\n",
       "</table>\n",
       "</div>"
      ],
      "text/plain": [
       "     Id   age           job  marital  education default  balance housing loan  \\\n",
       "0  1001   NaN    management  married   tertiary      no   2143.0     yes   no   \n",
       "1  1002   NaN           NaN   single  secondary      no     29.0     yes   no   \n",
       "2  1003   NaN  entrepreneur  married  secondary      no      2.0     yes  yes   \n",
       "3  1004  47.0   blue-collar  married    unknown      no   1506.0     yes   no   \n",
       "4  1005  33.0       unknown   single    unknown      no      1.0      no   no   \n",
       "\n",
       "   contact  day month  duration  campaign  pdays  previous poutcome   y  \n",
       "0  unknown    5   may       261         1     -1         0  unknown  no  \n",
       "1  unknown    5   may       151         1     -1         0  unknown  no  \n",
       "2  unknown    5   may        76         1     -1         0  unknown  no  \n",
       "3  unknown    5   may        92         1     -1         0  unknown  no  \n",
       "4  unknown    5   may       198         1     -1         0  unknown  no  "
      ]
     },
     "execution_count": 3,
     "metadata": {},
     "output_type": "execute_result"
    }
   ],
   "source": [
    "print(data.shape) \n",
    "data.head()"
   ]
  },
  {
   "cell_type": "code",
   "execution_count": 4,
   "metadata": {},
   "outputs": [
    {
     "name": "stdout",
     "output_type": "stream",
     "text": [
      "<class 'pandas.core.frame.DataFrame'>\n",
      "RangeIndex: 45211 entries, 0 to 45210\n",
      "Data columns (total 18 columns):\n",
      " #   Column     Non-Null Count  Dtype  \n",
      "---  ------     --------------  -----  \n",
      " 0   Id         45211 non-null  int64  \n",
      " 1   age        45199 non-null  float64\n",
      " 2   job        45210 non-null  object \n",
      " 3   marital    45211 non-null  object \n",
      " 4   education  45211 non-null  object \n",
      " 5   default    45211 non-null  object \n",
      " 6   balance    45208 non-null  float64\n",
      " 7   housing    45211 non-null  object \n",
      " 8   loan       45211 non-null  object \n",
      " 9   contact    45211 non-null  object \n",
      " 10  day        45211 non-null  int64  \n",
      " 11  month      45211 non-null  object \n",
      " 12  duration   45211 non-null  int64  \n",
      " 13  campaign   45211 non-null  int64  \n",
      " 14  pdays      45211 non-null  int64  \n",
      " 15  previous   45211 non-null  int64  \n",
      " 16  poutcome   45211 non-null  object \n",
      " 17  y          45211 non-null  object \n",
      "dtypes: float64(2), int64(6), object(10)\n",
      "memory usage: 6.2+ MB\n"
     ]
    }
   ],
   "source": [
    "data.info()"
   ]
  },
  {
   "cell_type": "markdown",
   "metadata": {},
   "source": [
    "**Data Set Clean Up**"
   ]
  },
  {
   "cell_type": "markdown",
   "metadata": {},
   "source": [
    "After checking our dataset, we have to check for some occurences:\n",
    "\n",
    "1. Missing data in some rows/columns\n",
    "2. Irrelevant columns to our problem\n",
    "3. Repeated rows\n",
    "4. Outlier Values. We need to analize them in detail to know what to do with them.\n",
    "5. Typos in inserts"
   ]
  },
  {
   "cell_type": "markdown",
   "metadata": {},
   "source": [
    "**Treating Missing Data**"
   ]
  },
  {
   "cell_type": "markdown",
   "metadata": {},
   "source": [
    "First of all, let's start by checking if we have some \"NaN\" values in out data set."
   ]
  },
  {
   "cell_type": "code",
   "execution_count": 5,
   "metadata": {},
   "outputs": [
    {
     "name": "stdout",
     "output_type": "stream",
     "text": [
      "True\n"
     ]
    }
   ],
   "source": [
    "check_nan_in_data = data.isnull().values.any()\n",
    "print(check_nan_in_data)"
   ]
  },
  {
   "cell_type": "markdown",
   "metadata": {},
   "source": [
    "As we can see, we have \"NaN\" values inside our dataset, so we must identify them!"
   ]
  },
  {
   "cell_type": "code",
   "execution_count": 6,
   "metadata": {},
   "outputs": [
    {
     "name": "stdout",
     "output_type": "stream",
     "text": [
      "16\n"
     ]
    }
   ],
   "source": [
    "#Counting Nan values\n",
    "\n",
    "count_nan_values_in_data = data.isnull().sum().sum()\n",
    "print(count_nan_values_in_data)"
   ]
  },
  {
   "cell_type": "code",
   "execution_count": 7,
   "metadata": {},
   "outputs": [
    {
     "data": {
      "text/plain": [
       "Id            0\n",
       "age          12\n",
       "job           1\n",
       "marital       0\n",
       "education     0\n",
       "default       0\n",
       "balance       3\n",
       "housing       0\n",
       "loan          0\n",
       "contact       0\n",
       "day           0\n",
       "month         0\n",
       "duration      0\n",
       "campaign      0\n",
       "pdays         0\n",
       "previous      0\n",
       "poutcome      0\n",
       "y             0\n",
       "dtype: int64"
      ]
     },
     "execution_count": 7,
     "metadata": {},
     "output_type": "execute_result"
    }
   ],
   "source": [
    "#Counting NaN values by column\n",
    "\n",
    "data.isnull().sum()"
   ]
  },
  {
   "cell_type": "markdown",
   "metadata": {},
   "source": [
    "It makes sense to eliminate all rows that have NaN values, in at least one column."
   ]
  },
  {
   "cell_type": "code",
   "execution_count": 8,
   "metadata": {},
   "outputs": [
    {
     "name": "stdout",
     "output_type": "stream",
     "text": [
      "<class 'pandas.core.frame.DataFrame'>\n",
      "Index: 45197 entries, 3 to 45210\n",
      "Data columns (total 18 columns):\n",
      " #   Column     Non-Null Count  Dtype  \n",
      "---  ------     --------------  -----  \n",
      " 0   Id         45197 non-null  int64  \n",
      " 1   age        45197 non-null  float64\n",
      " 2   job        45197 non-null  object \n",
      " 3   marital    45197 non-null  object \n",
      " 4   education  45197 non-null  object \n",
      " 5   default    45197 non-null  object \n",
      " 6   balance    45197 non-null  float64\n",
      " 7   housing    45197 non-null  object \n",
      " 8   loan       45197 non-null  object \n",
      " 9   contact    45197 non-null  object \n",
      " 10  day        45197 non-null  int64  \n",
      " 11  month      45197 non-null  object \n",
      " 12  duration   45197 non-null  int64  \n",
      " 13  campaign   45197 non-null  int64  \n",
      " 14  pdays      45197 non-null  int64  \n",
      " 15  previous   45197 non-null  int64  \n",
      " 16  poutcome   45197 non-null  object \n",
      " 17  y          45197 non-null  object \n",
      "dtypes: float64(2), int64(6), object(10)\n",
      "memory usage: 6.6+ MB\n"
     ]
    }
   ],
   "source": [
    "data.dropna(inplace=True)\n",
    "data.info()"
   ]
  },
  {
   "cell_type": "markdown",
   "metadata": {},
   "source": [
    "As we can see, we now have 45197 rows to analyse."
   ]
  },
  {
   "cell_type": "markdown",
   "metadata": {},
   "source": [
    "**Treating irrelevant columns**"
   ]
  },
  {
   "cell_type": "markdown",
   "metadata": {},
   "source": [
    "We are considering a column to be irrelevant when:\n",
    "\n",
    "- A column doesn't have any relevant information to solve this problem. \n",
    "- A categorical columns with only one level of classification.\n",
    "- A numerical columns with only one value."
   ]
  },
  {
   "cell_type": "markdown",
   "metadata": {},
   "source": [
    "In our case, we think all columns are relevant to our problem, so we must check to see if we have only one level/value in each columns."
   ]
  },
  {
   "cell_type": "code",
   "execution_count": 9,
   "metadata": {},
   "outputs": [
    {
     "name": "stdout",
     "output_type": "stream",
     "text": [
      "Column job: 12 sublevels\n",
      "Column marital: 3 sublevels\n",
      "Column education: 4 sublevels\n",
      "Column default: 2 sublevels\n",
      "Column housing: 2 sublevels\n",
      "Column loan: 2 sublevels\n",
      "Column contact: 3 sublevels\n",
      "Column month: 12 sublevels\n",
      "Column poutcome: 4 sublevels\n",
      "Column y: 2 sublevels\n"
     ]
    }
   ],
   "source": [
    "cols_cat = ['job', 'marital', 'education', 'default', 'housing', 'loan', 'contact', 'month', 'poutcome', 'y']\n",
    "for col in cols_cat:\n",
    "    print(f'Column {col}: {data[col].nunique()} sublevels')"
   ]
  },
  {
   "cell_type": "markdown",
   "metadata": {},
   "source": [
    "As we can see, all categorical columns have more than one level."
   ]
  },
  {
   "cell_type": "markdown",
   "metadata": {},
   "source": [
    "Let's check the numerical columns:"
   ]
  },
  {
   "cell_type": "code",
   "execution_count": 10,
   "metadata": {},
   "outputs": [
    {
     "data": {
      "text/html": [
       "<div>\n",
       "<style scoped>\n",
       "    .dataframe tbody tr th:only-of-type {\n",
       "        vertical-align: middle;\n",
       "    }\n",
       "\n",
       "    .dataframe tbody tr th {\n",
       "        vertical-align: top;\n",
       "    }\n",
       "\n",
       "    .dataframe thead th {\n",
       "        text-align: right;\n",
       "    }\n",
       "</style>\n",
       "<table border=\"1\" class=\"dataframe\">\n",
       "  <thead>\n",
       "    <tr style=\"text-align: right;\">\n",
       "      <th></th>\n",
       "      <th>Id</th>\n",
       "      <th>age</th>\n",
       "      <th>balance</th>\n",
       "      <th>day</th>\n",
       "      <th>duration</th>\n",
       "      <th>campaign</th>\n",
       "      <th>pdays</th>\n",
       "      <th>previous</th>\n",
       "    </tr>\n",
       "  </thead>\n",
       "  <tbody>\n",
       "    <tr>\n",
       "      <th>count</th>\n",
       "      <td>45197.000000</td>\n",
       "      <td>45197.000000</td>\n",
       "      <td>45197.000000</td>\n",
       "      <td>45197.000000</td>\n",
       "      <td>45197.000000</td>\n",
       "      <td>45197.000000</td>\n",
       "      <td>45197.000000</td>\n",
       "      <td>45197.000000</td>\n",
       "    </tr>\n",
       "    <tr>\n",
       "      <th>mean</th>\n",
       "      <td>23612.991415</td>\n",
       "      <td>40.933204</td>\n",
       "      <td>1362.608027</td>\n",
       "      <td>15.809766</td>\n",
       "      <td>258.147974</td>\n",
       "      <td>2.764387</td>\n",
       "      <td>40.210589</td>\n",
       "      <td>0.580503</td>\n",
       "    </tr>\n",
       "    <tr>\n",
       "      <th>std</th>\n",
       "      <td>13047.409252</td>\n",
       "      <td>10.623076</td>\n",
       "      <td>3045.162034</td>\n",
       "      <td>8.321591</td>\n",
       "      <td>257.444942</td>\n",
       "      <td>3.098345</td>\n",
       "      <td>100.141627</td>\n",
       "      <td>2.303775</td>\n",
       "    </tr>\n",
       "    <tr>\n",
       "      <th>min</th>\n",
       "      <td>1004.000000</td>\n",
       "      <td>-1.000000</td>\n",
       "      <td>-8019.000000</td>\n",
       "      <td>1.000000</td>\n",
       "      <td>0.000000</td>\n",
       "      <td>1.000000</td>\n",
       "      <td>-1.000000</td>\n",
       "      <td>0.000000</td>\n",
       "    </tr>\n",
       "    <tr>\n",
       "      <th>25%</th>\n",
       "      <td>12314.000000</td>\n",
       "      <td>33.000000</td>\n",
       "      <td>72.000000</td>\n",
       "      <td>8.000000</td>\n",
       "      <td>103.000000</td>\n",
       "      <td>1.000000</td>\n",
       "      <td>-1.000000</td>\n",
       "      <td>0.000000</td>\n",
       "    </tr>\n",
       "    <tr>\n",
       "      <th>50%</th>\n",
       "      <td>23613.000000</td>\n",
       "      <td>39.000000</td>\n",
       "      <td>449.000000</td>\n",
       "      <td>16.000000</td>\n",
       "      <td>180.000000</td>\n",
       "      <td>2.000000</td>\n",
       "      <td>-1.000000</td>\n",
       "      <td>0.000000</td>\n",
       "    </tr>\n",
       "    <tr>\n",
       "      <th>75%</th>\n",
       "      <td>34912.000000</td>\n",
       "      <td>48.000000</td>\n",
       "      <td>1428.000000</td>\n",
       "      <td>21.000000</td>\n",
       "      <td>319.000000</td>\n",
       "      <td>3.000000</td>\n",
       "      <td>-1.000000</td>\n",
       "      <td>0.000000</td>\n",
       "    </tr>\n",
       "    <tr>\n",
       "      <th>max</th>\n",
       "      <td>46211.000000</td>\n",
       "      <td>95.000000</td>\n",
       "      <td>102127.000000</td>\n",
       "      <td>31.000000</td>\n",
       "      <td>4918.000000</td>\n",
       "      <td>63.000000</td>\n",
       "      <td>871.000000</td>\n",
       "      <td>275.000000</td>\n",
       "    </tr>\n",
       "  </tbody>\n",
       "</table>\n",
       "</div>"
      ],
      "text/plain": [
       "                 Id           age        balance           day      duration  \\\n",
       "count  45197.000000  45197.000000   45197.000000  45197.000000  45197.000000   \n",
       "mean   23612.991415     40.933204    1362.608027     15.809766    258.147974   \n",
       "std    13047.409252     10.623076    3045.162034      8.321591    257.444942   \n",
       "min     1004.000000     -1.000000   -8019.000000      1.000000      0.000000   \n",
       "25%    12314.000000     33.000000      72.000000      8.000000    103.000000   \n",
       "50%    23613.000000     39.000000     449.000000     16.000000    180.000000   \n",
       "75%    34912.000000     48.000000    1428.000000     21.000000    319.000000   \n",
       "max    46211.000000     95.000000  102127.000000     31.000000   4918.000000   \n",
       "\n",
       "           campaign         pdays      previous  \n",
       "count  45197.000000  45197.000000  45197.000000  \n",
       "mean       2.764387     40.210589      0.580503  \n",
       "std        3.098345    100.141627      2.303775  \n",
       "min        1.000000     -1.000000      0.000000  \n",
       "25%        1.000000     -1.000000      0.000000  \n",
       "50%        2.000000     -1.000000      0.000000  \n",
       "75%        3.000000     -1.000000      0.000000  \n",
       "max       63.000000    871.000000    275.000000  "
      ]
     },
     "execution_count": 10,
     "metadata": {},
     "output_type": "execute_result"
    }
   ],
   "source": [
    "data.describe()"
   ]
  },
  {
   "cell_type": "markdown",
   "metadata": {},
   "source": [
    "As we can check in the table above, all standard deviation rows (\"std\") are all different than zero. That means that all columns have, at least, two different values."
   ]
  },
  {
   "cell_type": "markdown",
   "metadata": {},
   "source": [
    "**Checking repeated rows**"
   ]
  },
  {
   "cell_type": "code",
   "execution_count": 11,
   "metadata": {},
   "outputs": [
    {
     "name": "stdout",
     "output_type": "stream",
     "text": [
      "Size of the set before eliminating the repeated rows: (45197, 18)\n",
      "Size of the set after eliminating the repeated rows: (45197, 18)\n"
     ]
    }
   ],
   "source": [
    "print(f'Size of the set before eliminating the repeated rows: {data.shape}')\n",
    "data.drop_duplicates(inplace=True)\n",
    "\n",
    "print(f'Size of the set after eliminating the repeated rows: {data.shape}')"
   ]
  },
  {
   "cell_type": "markdown",
   "metadata": {},
   "source": [
    "As we can see, we don't have any repeated rows in out dataset."
   ]
  },
  {
   "cell_type": "markdown",
   "metadata": {},
   "source": [
    "**Checking for outlying numerical variables**\n"
   ]
  },
  {
   "cell_type": "markdown",
   "metadata": {},
   "source": [
    "Let's create \"boxplots\" to all numerical columns:"
   ]
  },
  {
   "cell_type": "code",
   "execution_count": 12,
   "metadata": {},
   "outputs": [
    {
     "data": {
      "image/png": "[encoded data removed]",
      "text/plain": [
       "<Figure size 800x3000 with 8 Axes>"
      ]
     },
     "metadata": {},
     "output_type": "display_data"
    }
   ],
   "source": [
    "cols_num = ['Id', 'age', 'balance', 'day', 'duration', 'campaign', 'pdays', 'previous']\n",
    "\n",
    "fig, ax = plt.subplots(nrows=8, ncols=1, figsize=(8,30))\n",
    "fig.subplots_adjust(hspace=0.5)\n",
    "\n",
    "for i, col in enumerate(cols_num):\n",
    "    sns.boxplot(x=col, data=data, ax=ax[i]) # \"boxplot\" can allow us to see the outliers points\n",
    "    ax[i].set_title(col)"
   ]
  },
  {
   "cell_type": "markdown",
   "metadata": {},
   "source": [
    "**Observations:**\n",
    "\n",
    "- 'previous': we have one extreme value in our dataset (close to 300).\n",
    "- 'age': we are only considering people older than 18 years old."
   ]
  },
  {
   "cell_type": "code",
   "execution_count": 13,
   "metadata": {},
   "outputs": [
    {
     "name": "stdout",
     "output_type": "stream",
     "text": [
      "Size of the dataset before eliminate the rows of previous: (45197, 18)\n",
      "Size of the dataset after eliminate the rows of previous: (45193, 18)\n"
     ]
    }
   ],
   "source": [
    "print(f'Size of the dataset before eliminate the rows of previous: {data.shape}')\n",
    "data = data[data['previous']<=100]\n",
    "data = data[data['age']>=18] \n",
    "print(f'Size of the dataset after eliminate the rows of previous: {data.shape}')"
   ]
  },
  {
   "cell_type": "code",
   "execution_count": 14,
   "metadata": {},
   "outputs": [
    {
     "name": "stdout",
     "output_type": "stream",
     "text": [
      "<class 'pandas.core.frame.DataFrame'>\n",
      "Index: 45193 entries, 3 to 45210\n",
      "Data columns (total 18 columns):\n",
      " #   Column     Non-Null Count  Dtype  \n",
      "---  ------     --------------  -----  \n",
      " 0   Id         45193 non-null  int64  \n",
      " 1   age        45193 non-null  float64\n",
      " 2   job        45193 non-null  object \n",
      " 3   marital    45193 non-null  object \n",
      " 4   education  45193 non-null  object \n",
      " 5   default    45193 non-null  object \n",
      " 6   balance    45193 non-null  float64\n",
      " 7   housing    45193 non-null  object \n",
      " 8   loan       45193 non-null  object \n",
      " 9   contact    45193 non-null  object \n",
      " 10  day        45193 non-null  int64  \n",
      " 11  month      45193 non-null  object \n",
      " 12  duration   45193 non-null  int64  \n",
      " 13  campaign   45193 non-null  int64  \n",
      " 14  pdays      45193 non-null  int64  \n",
      " 15  previous   45193 non-null  int64  \n",
      " 16  poutcome   45193 non-null  object \n",
      " 17  y          45193 non-null  object \n",
      "dtypes: float64(2), int64(6), object(10)\n",
      "memory usage: 6.6+ MB\n"
     ]
    }
   ],
   "source": [
    "data.info()"
   ]
  },
  {
   "cell_type": "markdown",
   "metadata": {},
   "source": [
    "**Checking for typos of the categorical variables**\n"
   ]
  },
  {
   "cell_type": "markdown",
   "metadata": {},
   "source": [
    "Let's check if we have typos in our categorical columns."
   ]
  },
  {
   "cell_type": "code",
   "execution_count": 15,
   "metadata": {},
   "outputs": [
    {
     "data": {
      "text/html": [
       "<div>\n",
       "<style scoped>\n",
       "    .dataframe tbody tr th:only-of-type {\n",
       "        vertical-align: middle;\n",
       "    }\n",
       "\n",
       "    .dataframe tbody tr th {\n",
       "        vertical-align: top;\n",
       "    }\n",
       "\n",
       "    .dataframe thead th {\n",
       "        text-align: right;\n",
       "    }\n",
       "</style>\n",
       "<table border=\"1\" class=\"dataframe\">\n",
       "  <thead>\n",
       "    <tr style=\"text-align: right;\">\n",
       "      <th></th>\n",
       "      <th>Id</th>\n",
       "      <th>age</th>\n",
       "      <th>job</th>\n",
       "      <th>marital</th>\n",
       "      <th>education</th>\n",
       "      <th>default</th>\n",
       "      <th>balance</th>\n",
       "      <th>housing</th>\n",
       "      <th>loan</th>\n",
       "      <th>contact</th>\n",
       "      <th>day</th>\n",
       "      <th>month</th>\n",
       "      <th>duration</th>\n",
       "      <th>campaign</th>\n",
       "      <th>pdays</th>\n",
       "      <th>previous</th>\n",
       "      <th>poutcome</th>\n",
       "      <th>y</th>\n",
       "    </tr>\n",
       "  </thead>\n",
       "  <tbody>\n",
       "    <tr>\n",
       "      <th>3</th>\n",
       "      <td>1004</td>\n",
       "      <td>47.0</td>\n",
       "      <td>1</td>\n",
       "      <td>1</td>\n",
       "      <td>3</td>\n",
       "      <td>0</td>\n",
       "      <td>1506.0</td>\n",
       "      <td>1</td>\n",
       "      <td>0</td>\n",
       "      <td>2</td>\n",
       "      <td>5</td>\n",
       "      <td>8</td>\n",
       "      <td>92</td>\n",
       "      <td>1</td>\n",
       "      <td>-1</td>\n",
       "      <td>0</td>\n",
       "      <td>3</td>\n",
       "      <td>0</td>\n",
       "    </tr>\n",
       "    <tr>\n",
       "      <th>4</th>\n",
       "      <td>1005</td>\n",
       "      <td>33.0</td>\n",
       "      <td>11</td>\n",
       "      <td>2</td>\n",
       "      <td>3</td>\n",
       "      <td>0</td>\n",
       "      <td>1.0</td>\n",
       "      <td>0</td>\n",
       "      <td>0</td>\n",
       "      <td>2</td>\n",
       "      <td>5</td>\n",
       "      <td>8</td>\n",
       "      <td>198</td>\n",
       "      <td>1</td>\n",
       "      <td>-1</td>\n",
       "      <td>0</td>\n",
       "      <td>3</td>\n",
       "      <td>0</td>\n",
       "    </tr>\n",
       "    <tr>\n",
       "      <th>5</th>\n",
       "      <td>1006</td>\n",
       "      <td>35.0</td>\n",
       "      <td>4</td>\n",
       "      <td>1</td>\n",
       "      <td>2</td>\n",
       "      <td>0</td>\n",
       "      <td>231.0</td>\n",
       "      <td>1</td>\n",
       "      <td>0</td>\n",
       "      <td>2</td>\n",
       "      <td>5</td>\n",
       "      <td>8</td>\n",
       "      <td>139</td>\n",
       "      <td>1</td>\n",
       "      <td>-1</td>\n",
       "      <td>0</td>\n",
       "      <td>3</td>\n",
       "      <td>0</td>\n",
       "    </tr>\n",
       "    <tr>\n",
       "      <th>6</th>\n",
       "      <td>1007</td>\n",
       "      <td>28.0</td>\n",
       "      <td>4</td>\n",
       "      <td>2</td>\n",
       "      <td>2</td>\n",
       "      <td>0</td>\n",
       "      <td>447.0</td>\n",
       "      <td>1</td>\n",
       "      <td>1</td>\n",
       "      <td>2</td>\n",
       "      <td>5</td>\n",
       "      <td>8</td>\n",
       "      <td>217</td>\n",
       "      <td>1</td>\n",
       "      <td>-1</td>\n",
       "      <td>0</td>\n",
       "      <td>3</td>\n",
       "      <td>0</td>\n",
       "    </tr>\n",
       "    <tr>\n",
       "      <th>10</th>\n",
       "      <td>1011</td>\n",
       "      <td>41.0</td>\n",
       "      <td>0</td>\n",
       "      <td>0</td>\n",
       "      <td>1</td>\n",
       "      <td>0</td>\n",
       "      <td>270.0</td>\n",
       "      <td>1</td>\n",
       "      <td>0</td>\n",
       "      <td>2</td>\n",
       "      <td>5</td>\n",
       "      <td>8</td>\n",
       "      <td>222</td>\n",
       "      <td>1</td>\n",
       "      <td>-1</td>\n",
       "      <td>0</td>\n",
       "      <td>3</td>\n",
       "      <td>0</td>\n",
       "    </tr>\n",
       "  </tbody>\n",
       "</table>\n",
       "</div>"
      ],
      "text/plain": [
       "      Id   age  job  marital  education  default  balance  housing  loan  \\\n",
       "3   1004  47.0    1        1          3        0   1506.0        1     0   \n",
       "4   1005  33.0   11        2          3        0      1.0        0     0   \n",
       "5   1006  35.0    4        1          2        0    231.0        1     0   \n",
       "6   1007  28.0    4        2          2        0    447.0        1     1   \n",
       "10  1011  41.0    0        0          1        0    270.0        1     0   \n",
       "\n",
       "    contact  day  month  duration  campaign  pdays  previous  poutcome  y  \n",
       "3         2    5      8        92         1     -1         0         3  0  \n",
       "4         2    5      8       198         1     -1         0         3  0  \n",
       "5         2    5      8       139         1     -1         0         3  0  \n",
       "6         2    5      8       217         1     -1         0         3  0  \n",
       "10        2    5      8       222         1     -1         0         3  0  "
      ]
     },
     "execution_count": 15,
     "metadata": {},
     "output_type": "execute_result"
    }
   ],
   "source": [
    "encoder = LabelEncoder()\n",
    "\n",
    "data['job'] = encoder.fit_transform(data['job'])\n",
    "data['marital'] = encoder.fit_transform(data['marital'])\n",
    "data['education'] = encoder.fit_transform(data['education'])\n",
    "data['default'] = encoder.fit_transform(data['default'])\n",
    "data['housing'] = encoder.fit_transform(data['housing'])\n",
    "data['loan'] = encoder.fit_transform(data['loan'])\n",
    "data['contact'] = encoder.fit_transform(data['contact'])\n",
    "data['month'] = encoder.fit_transform(data['month'])\n",
    "data['poutcome'] = encoder.fit_transform(data['poutcome'])\n",
    "data['y'] = encoder.fit_transform(data['y'])\n",
    "data.head()"
   ]
  },
  {
   "cell_type": "code",
   "execution_count": 16,
   "metadata": {},
   "outputs": [
    {
     "data": {
      "image/png": "[encoded data removed]",
      "text/plain": [
       "<Figure size 700x400 with 1 Axes>"
      ]
     },
     "metadata": {},
     "output_type": "display_data"
    },
    {
     "data": {
      "image/png": "[encoded data removed]",
      "text/plain": [
       "<Figure size 700x400 with 1 Axes>"
      ]
     },
     "metadata": {},
     "output_type": "display_data"
    },
    {
     "data": {
      "image/png": "[encoded data removed]",
      "text/plain": [
       "<Figure size 700x400 with 1 Axes>"
      ]
     },
     "metadata": {},
     "output_type": "display_data"
    },
    {
     "data": {
      "image/png": "[encoded data removed]",
      "text/plain": [
       "<Figure size 700x400 with 1 Axes>"
      ]
     },
     "metadata": {},
     "output_type": "display_data"
    },
    {
     "data": {
      "image/png": "[encoded data removed]",
      "text/plain": [
       "<Figure size 700x400 with 1 Axes>"
      ]
     },
     "metadata": {},
     "output_type": "display_data"
    },
    {
     "data": {
      "image/png": "[encoded data removed]",
      "text/plain": [
       "<Figure size 700x400 with 1 Axes>"
      ]
     },
     "metadata": {},
     "output_type": "display_data"
    },
    {
     "data": {
      "image/png": "[encoded data removed]",
      "text/plain": [
       "<Figure size 700x400 with 1 Axes>"
      ]
     },
     "metadata": {},
     "output_type": "display_data"
    },
    {
     "data": {
      "image/png": "[encoded data removed]",
      "text/plain": [
       "<Figure size 700x400 with 1 Axes>"
      ]
     },
     "metadata": {},
     "output_type": "display_data"
    },
    {
     "data": {
      "image/png": "[encoded data removed]",
      "text/plain": [
       "<Figure size 700x400 with 1 Axes>"
      ]
     },
     "metadata": {},
     "output_type": "display_data"
    },
    {
     "data": {
      "image/png": "[encoded data removed]",
      "text/plain": [
       "<Figure size 700x400 with 1 Axes>"
      ]
     },
     "metadata": {},
     "output_type": "display_data"
    }
   ],
   "source": [
    "col_of_data = ['job', 'marital', 'education', 'default', 'housing', 'loan', 'contact', 'month', 'poutcome', 'y']\n",
    "\n",
    "for i in col_of_data:\n",
    "    plt.figure(figsize=(7,4))\n",
    "    plt.title(i)\n",
    "    sns.countplot(y=data[i], data = data, palette = 'Set2',hue_order=None)"
   ]
  },
  {
   "cell_type": "markdown",
   "metadata": {},
   "source": [
    "We don't have any typos in our categorical columns!"
   ]
  },
  {
   "cell_type": "code",
   "execution_count": 17,
   "metadata": {},
   "outputs": [
    {
     "data": {
      "text/plain": [
       "(45193, 18)"
      ]
     },
     "execution_count": 17,
     "metadata": {},
     "output_type": "execute_result"
    }
   ],
   "source": [
    "data.shape"
   ]
  },
  {
   "cell_type": "code",
   "execution_count": 18,
   "metadata": {
    "scrolled": true
   },
   "outputs": [
    {
     "name": "stdout",
     "output_type": "stream",
     "text": [
      "<class 'pandas.core.frame.DataFrame'>\n",
      "Index: 45193 entries, 3 to 45210\n",
      "Data columns (total 18 columns):\n",
      " #   Column     Non-Null Count  Dtype  \n",
      "---  ------     --------------  -----  \n",
      " 0   Id         45193 non-null  int64  \n",
      " 1   age        45193 non-null  float64\n",
      " 2   job        45193 non-null  int32  \n",
      " 3   marital    45193 non-null  int32  \n",
      " 4   education  45193 non-null  int32  \n",
      " 5   default    45193 non-null  int32  \n",
      " 6   balance    45193 non-null  float64\n",
      " 7   housing    45193 non-null  int32  \n",
      " 8   loan       45193 non-null  int32  \n",
      " 9   contact    45193 non-null  int32  \n",
      " 10  day        45193 non-null  int64  \n",
      " 11  month      45193 non-null  int32  \n",
      " 12  duration   45193 non-null  int64  \n",
      " 13  campaign   45193 non-null  int64  \n",
      " 14  pdays      45193 non-null  int64  \n",
      " 15  previous   45193 non-null  int64  \n",
      " 16  poutcome   45193 non-null  int32  \n",
      " 17  y          45193 non-null  int32  \n",
      "dtypes: float64(2), int32(10), int64(6)\n",
      "memory usage: 4.8 MB\n"
     ]
    }
   ],
   "source": [
    "data.info()"
   ]
  },
  {
   "cell_type": "markdown",
   "metadata": {},
   "source": [
    "We conclued that the dataset has been cleaned up and ready to be explored in our project."
   ]
  },
  {
   "cell_type": "code",
   "execution_count": 19,
   "metadata": {},
   "outputs": [],
   "source": [
    "path_clean_dataset = 'data_clean.csv'\n",
    "data.to_csv(path_clean_dataset, index=False)"
   ]
  },
  {
   "cell_type": "markdown",
   "metadata": {},
   "source": [
    "### Model Training\n",
    "\n",
    "First, since the dataset is not balanced, we need to over sample it to make sure there are the same number of \"yes\" and \"no\" responses to the marketing campaign so that the results obtained are valid.\n"
   ]
  },
  {
   "cell_type": "code",
   "execution_count": 25,
   "metadata": {},
   "outputs": [
    {
     "name": "stdout",
     "output_type": "stream",
     "text": [
      "Training set distribution after SMOTE:\n",
      "y\n",
      "0    0.5\n",
      "1    0.5\n",
      "Name: proportion, dtype: float64\n",
      "\n",
      "Testing set distribution:\n",
      "y\n",
      "0    0.881403\n",
      "1    0.118597\n",
      "Name: proportion, dtype: float64\n"
     ]
    }
   ],
   "source": [
    "data = pd.read_csv(path_clean_dataset)\n",
    "\n",
    "features = data.drop('y', axis=1)\n",
    "labels = data['y']\n",
    "\n",
    "X_train, X_test, y_train, y_test = train_test_split(features, labels, test_size=0.2, random_state=30)\n",
    "\n",
    "# Smaller test set\n",
    "Xs_train, Xs_test, ys_train, ys_test = train_test_split(features, labels, test_size=0.1, random_state=30)\n",
    "# Bigger test set\n",
    "Xb_train, Xb_test, yb_train, yb_test = train_test_split(features, labels, test_size=0.3, random_state=30)\n",
    "\n",
    "smote = SMOTE(random_state=30)\n",
    "X_train_resampled, y_train_resampled = smote.fit_resample(X_train, y_train)\n",
    "\n",
    "smote = SMOTE(random_state=30)\n",
    "Xs_train_resampled, ys_train_resampled = smote.fit_resample(Xs_train, ys_train)\n",
    "\n",
    "smote = SMOTE(random_state=30)\n",
    "Xb_train_resampled, yb_train_resampled = smote.fit_resample(Xb_train, yb_train)\n",
    "\n",
    "# Check the distribution in the resampled training set (=0.2)\n",
    "print(\"Training set distribution after SMOTE:\")\n",
    "print(y_train_resampled.value_counts(normalize=True))\n",
    "\n",
    "# Check the distribution in the testing set\n",
    "print(\"\\nTesting set distribution:\")\n",
    "print(y_test.value_counts(normalize=True))\n",
    "\n"
   ]
  },
  {
   "cell_type": "code",
   "execution_count": 30,
   "metadata": {},
   "outputs": [
    {
     "name": "stdout",
     "output_type": "stream",
     "text": [
      "don1e\n"
     ]
    }
   ],
   "source": [
    "from sklearn.neighbors import KNeighborsClassifier\n",
    "from sklearn.naive_bayes import GaussianNB\n",
    "from sklearn.tree import DecisionTreeClassifier\n",
    "from sklearn.linear_model import LogisticRegression\n",
    "from sklearn.neural_network import MLPClassifier\n",
    "from sklearn.ensemble import RandomForestClassifier\n",
    "from sklearn.ensemble import GradientBoostingClassifier\n",
    "from sklearn.metrics import accuracy_score, precision_score, recall_score, f1_score\n",
    "\n",
    "# Initialize models\n",
    "\n",
    "#We will use KNN to compare test sizes\n",
    "model_knn = KNeighborsClassifier()\n",
    "model_knnS = KNeighborsClassifier()\n",
    "model_knnB = KNeighborsClassifier()\n",
    "\n",
    "model_nb = GaussianNB()\n",
    "model_dt = DecisionTreeClassifier(random_state=30)\n",
    "model_lr = LogisticRegression(random_state=30, max_iter=10000)\n",
    "model_nn = MLPClassifier(activation='relu', solver='adam', random_state=30)\n",
    "\n",
    "model_rf = RandomForestClassifier(random_state=30)\n",
    "model_gb = GradientBoostingClassifier(random_state=30)\n",
    "\n",
    "\n",
    "print(\"don1e\")\n",
    "\n"
   ]
  },
  {
   "cell_type": "code",
   "execution_count": 31,
   "metadata": {
    "scrolled": true
   },
   "outputs": [
    {
     "name": "stdout",
     "output_type": "stream",
     "text": [
      "done1\n",
      "done2\n",
      "done3\n",
      "done4\n",
      "done5\n",
      "done6\n",
      "done7\n"
     ]
    }
   ],
   "source": [
    "# Train Algos\n",
    "\n",
    "#We will train knn with the 3 different test sizes to show which is the best but we have made sure to check for other algorithms also\n",
    "\n",
    "\n",
    "model_knn.fit(X_train_resampled, y_train_resampled)\n",
    "model_knnS.fit(Xs_train_resampled, ys_train_resampled)\n",
    "model_knnB.fit(Xb_train_resampled, yb_train_resampled)\n",
    "\n",
    "print(\"done1\")\n",
    "\n",
    "model_nb.fit(X_train_resampled, y_train_resampled)\n",
    "\n",
    "print(\"done2\")\n",
    "\n",
    "model_dt.fit(X_train_resampled, y_train_resampled)\n",
    "\n",
    "print(\"done3\")\n",
    "\n",
    "model_lr.fit(X_train_resampled, y_train_resampled)\n",
    "\n",
    "print(\"done4\")\n",
    "\n",
    "model_nn.fit(X_train_resampled, y_train_resampled)\n",
    "\n",
    "print(\"done5\")\n",
    "\n",
    "model_rf.fit(X_train_resampled, y_train_resampled)\n",
    "\n",
    "print(\"done6\")\n",
    "\n",
    "model_gb.fit(X_train_resampled, y_train_resampled)\n",
    "\n",
    "print(\"done7\")\n",
    "\n",
    "\n"
   ]
  },
  {
   "cell_type": "code",
   "execution_count": 32,
   "metadata": {
    "scrolled": false
   },
   "outputs": [
    {
     "name": "stdout",
     "output_type": "stream",
     "text": [
      "K-Nearest Neighbors (KNN) Performance:\n",
      "Accuracy: 0.8575, Precision: 0.4427, Recall: 0.7780, F1-score: 0.5643\n",
      "K-Nearest Neighbors (KNN) Performance (Smaller than Optimal Test size):\n",
      "Accuracy: 0.8538, Precision: 0.4265, Recall: 0.7793, F1-score: 0.5513\n",
      "K-Nearest Neighbors (KNN) Performance (Bigger than Optimal Test size):\n",
      "Accuracy: 0.8567, Precision: 0.4395, Recall: 0.7764, F1-score: 0.5613\n",
      "\n",
      "Naive Bayes (GaussianNB) Performance:\n",
      "Accuracy: 0.7208, Precision: 0.2785, Recall: 0.8517, F1-score: 0.4198\n",
      "\n",
      "Decision Tree Performance:\n",
      "Accuracy: 0.8735, Precision: 0.4748, Recall: 0.6250, F1-score: 0.5397\n",
      "\n",
      "Logistic Regression Performance:\n",
      "Accuracy: 0.8367, Precision: 0.3969, Recall: 0.7257, F1-score: 0.5132\n",
      "\n",
      "Neural Network Performance:\n",
      "Accuracy: 0.8848, Precision: 0.5838, Recall: 0.1007, F1-score: 0.1718\n",
      "\n",
      "Random Forest Performance:\n",
      "Accuracy: 0.9001, Precision: 0.5620, Recall: 0.7146, F1-score: 0.6292\n",
      "\n",
      "Gradient Boost Performance:\n",
      "Accuracy: 0.8791, Precision: 0.4941, Recall: 0.8172, F1-score: 0.6158\n"
     ]
    }
   ],
   "source": [
    "def evaluate_model(model, X_test, y_test):\n",
    "    y_pred = model.predict(X_test)\n",
    "    accuracy = accuracy_score(y_test, y_pred)\n",
    "    precision = precision_score(y_test, y_pred)\n",
    "    recall = recall_score(y_test, y_pred)\n",
    "    f1 = f1_score(y_test, y_pred)\n",
    "    return accuracy, precision, recall, f1\n",
    "\n",
    "\n",
    "accuracy_knn, precision_knn, recall_knn, f1_knn = evaluate_model(model_knn, X_test, y_test)\n",
    "accuracy_knnS, precision_knnS, recall_knnS, f1_knnS = evaluate_model(model_knnS, Xs_test, ys_test)\n",
    "accuracy_knnB, precision_knnB, recall_knnB, f1_knnB = evaluate_model(model_knnB, Xb_test, yb_test)\n",
    "\n",
    "accuracy_nb, precision_nb, recall_nb, f1_nb = evaluate_model(model_nb, X_test, y_test)\n",
    "\n",
    "accuracy_dt, precision_dt, recall_dt, f1_dt = evaluate_model(model_dt, X_test, y_test)\n",
    "\n",
    "accuracy_lr, precision_lr, recall_lr, f1_lr = evaluate_model(model_lr, X_test, y_test)\n",
    "\n",
    "accuracy_nn, precision_nn, recall_nn, f1_nn = evaluate_model(model_nn, X_test, y_test)\n",
    "\n",
    "accuracy_rf, precision_rf, recall_rf, f1_rf = evaluate_model(model_rf, X_test, y_test)\n",
    "\n",
    "accuracy_gb, precision_gb, recall_gb, f1_gb = evaluate_model(model_gb, X_test, y_test)\n",
    "\n",
    "\n",
    "\n",
    "# Display evaluation results for each model\n",
    "print(\"K-Nearest Neighbors (KNN) Performance:\")\n",
    "print(f\"Accuracy: {accuracy_knn:.4f}, Precision: {precision_knn:.4f}, Recall: {recall_knn:.4f}, F1-score: {f1_knn:.4f}\")\n",
    "\n",
    "print(\"K-Nearest Neighbors (KNN) Performance (Smaller than Optimal Test size):\")\n",
    "print(f\"Accuracy: {accuracy_knnS:.4f}, Precision: {precision_knnS:.4f}, Recall: {recall_knnS:.4f}, F1-score: {f1_knnS:.4f}\")\n",
    "\n",
    "# Display evaluation results for each model\n",
    "print(\"K-Nearest Neighbors (KNN) Performance (Bigger than Optimal Test size):\")\n",
    "print(f\"Accuracy: {accuracy_knnB:.4f}, Precision: {precision_knnB:.4f}, Recall: {recall_knnB:.4f}, F1-score: {f1_knnB:.4f}\")\n",
    "\n",
    "#Rest of the algos are done with optimal test size (=0.2)\n",
    "\n",
    "print(\"\\nNaive Bayes (GaussianNB) Performance:\")\n",
    "print(f\"Accuracy: {accuracy_nb:.4f}, Precision: {precision_nb:.4f}, Recall: {recall_nb:.4f}, F1-score: {f1_nb:.4f}\")\n",
    "\n",
    "print(\"\\nDecision Tree Performance:\")\n",
    "print(f\"Accuracy: {accuracy_dt:.4f}, Precision: {precision_dt:.4f}, Recall: {recall_dt:.4f}, F1-score: {f1_dt:.4f}\")\n",
    "\n",
    "print(\"\\nLogistic Regression Performance:\")\n",
    "print(f\"Accuracy: {accuracy_lr:.4f}, Precision: {precision_lr:.4f}, Recall: {recall_lr:.4f}, F1-score: {f1_lr:.4f}\")\n",
    "\n",
    "print(\"\\nNeural Network Performance:\")\n",
    "print(f\"Accuracy: {accuracy_nn:.4f}, Precision: {precision_nn:.4f}, Recall: {recall_nn:.4f}, F1-score: {f1_nn:.4f}\")\n",
    "\n",
    "print(\"\\nRandom Forest Performance:\")\n",
    "print(f\"Accuracy: {accuracy_rf:.4f}, Precision: {precision_rf:.4f}, Recall: {recall_rf:.4f}, F1-score: {f1_rf:.4f}\")\n",
    "\n",
    "\n",
    "\n",
    "print(\"\\nGradient Boost Performance:\")\n",
    "print(f\"Accuracy: {accuracy_gb:.4f}, Precision: {precision_gb:.4f}, Recall: {recall_gb:.4f}, F1-score: {f1_gb:.4f}\")\n",
    "\n",
    "\n",
    "\n",
    "\n"
   ]
  },
  {
   "cell_type": "markdown",
   "metadata": {},
   "source": [
    "**Decision Tree** (nao vou mexer no que está aqui prabaixo dani\n",
    "\n",
    ")\n"
   ]
  },
  {
   "cell_type": "code",
   "execution_count": 171,
   "metadata": {},
   "outputs": [
    {
     "name": "stdout",
     "output_type": "stream",
     "text": [
      "train accuracy: 1.0\n",
      "test accuracy: 0.8857174466202014\n",
      "precision score: 0.5185891325071497\n",
      "recall score: 0.5074626865671642\n",
      "f1 score: 0.5129655822725129\n",
      "cross validation score: 0.8848260132482455\n",
      "tree depth: 28\n",
      "tree parameters: {'ccp_alpha': 0.0, 'class_weight': None, 'criterion': 'gini', 'max_depth': None, 'max_features': None, 'max_leaf_nodes': None, 'min_impurity_decrease': 0.0, 'min_samples_leaf': 1, 'min_samples_split': 2, 'min_weight_fraction_leaf': 0.0, 'random_state': 42, 'splitter': 'best'}\n"
     ]
    }
   ],
   "source": []
  },
  {
   "cell_type": "code",
   "execution_count": 172,
   "metadata": {},
   "outputs": [
    {
     "data": {
      "image/png": "[encoded data removed]",
      "text/plain": [
       "<Figure size 1000x600 with 1 Axes>"
      ]
     },
     "metadata": {},
     "output_type": "display_data"
    },
    {
     "data": {
      "image/png": "[encoded data removed]",
      "text/plain": [
       "<Figure size 640x480 with 2 Axes>"
      ]
     },
     "metadata": {},
     "output_type": "display_data"
    }
   ],
   "source": [
    "imp = tree.feature_importances_\n",
    "features_names = tree.feature_names_in_\n",
    "sorted_indices = np.argsort(imp)[::-1] \n",
    "sorted_imp = imp[sorted_indices]\n",
    "sorted_features_names = [features_names[i] for i in sorted_indices]\n",
    "\n",
    "id_index = sorted_features_names.index('Id')\n",
    "del sorted_features_names[id_index]\n",
    "sorted_imp = np.delete(sorted_imp, id_index)\n",
    "\n",
    "plt.figure(figsize=(10, 6))\n",
    "plt.bar(sorted_features_names, sorted_imp)\n",
    "plt.xlabel('Feature')\n",
    "plt.ylabel('Importance')\n",
    "plt.title('Feature Importance')\n",
    "plt.xticks(rotation=45, ha='right')\n",
    "plt.tight_layout()\n",
    "plt.show()\n",
    "\n",
    "y_pred = tree.predict(X_test)\n",
    "confusion_matrix_result = confusion_matrix(y_test, y_pred)\n",
    "\n",
    "ConfusionMatrixDisplay(confusion_matrix = confusion_matrix_result, display_labels = [\"no\", \"yes\",]).plot()\n",
    "plt.show()"
   ]
  }
 ],
 "metadata": {
  "kernelspec": {
   "display_name": "Python 3 (ipykernel)",
   "language": "python",
   "name": "python3"
  },
  "language_info": {
   "codemirror_mode": {
    "name": "ipython",
    "version": 3
   },
   "file_extension": ".py",
   "mimetype": "text/x-python",
   "name": "python",
   "nbconvert_exporter": "python",
   "pygments_lexer": "ipython3",
   "version": "3.11.5"
  }
 },
 "nbformat": 4,
 "nbformat_minor": 2
}
